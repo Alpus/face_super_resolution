{
 "cells": [
  {
   "cell_type": "code",
   "execution_count": 1,
   "metadata": {},
   "outputs": [],
   "source": [
    "import os\n",
    "\n",
    "import PIL\n",
    "import torch\n",
    "from sklearn.metrics import roc_auc_score\n",
    "from skimage.io import imread\n",
    "from torch.autograd import Variable\n",
    "from torch.utils.data import DataLoader\n",
    "from torch.utils.data.dataset import Dataset\n",
    "from torchvision import transforms\n",
    "from tqdm import tqdm\n",
    "\n",
    "from settings.paths import LFW_PAIRS_6000, LFW_FUNNELED_DIR, LIGHT_CNN_9_WEIGHT\n",
    "from src.light_cnn import LightCNN_9Layers"
   ]
  },
  {
   "cell_type": "code",
   "execution_count": 2,
   "metadata": {
    "collapsed": true
   },
   "outputs": [],
   "source": [
    "os.environ[\"CUDA_VISIBLE_DEVICES\"] = '6, 7'"
   ]
  },
  {
   "cell_type": "code",
   "execution_count": null,
   "metadata": {
    "collapsed": true
   },
   "outputs": [],
   "source": []
  },
  {
   "cell_type": "code",
   "execution_count": 3,
   "metadata": {
    "collapsed": true
   },
   "outputs": [],
   "source": [
    "def init_model(name='LightCNN_9', cuda=True):\n",
    "    if name is 'LightCNN_9':\n",
    "        model_class = LightCNN_9Layers\n",
    "        num_classes=79077\n",
    "    else:\n",
    "        raise ValueError('No such model {}'.format(name))\n",
    "        \n",
    "    model = model_class(num_classes=num_classes)\n",
    "    model.eval()\n",
    "    \n",
    "    if cuda:\n",
    "        model = torch.nn.DataParallel(model).cuda()\n",
    "    \n",
    "    return model"
   ]
  },
  {
   "cell_type": "code",
   "execution_count": 4,
   "metadata": {
    "collapsed": true
   },
   "outputs": [],
   "source": [
    "def load_weights(model, weight_path):\n",
    "    checkpoint = torch.load(weight_path)\n",
    "    model.load_state_dict(checkpoint['state_dict'])\n",
    "    return model"
   ]
  },
  {
   "cell_type": "code",
   "execution_count": 5,
   "metadata": {},
   "outputs": [],
   "source": [
    "model = init_model(LightCNN_9, cuda=True)\n",
    "model = load_weights(model, LIGHT_CNN_9_WEIGHT)"
   ]
  },
  {
   "cell_type": "code",
   "execution_count": null,
   "metadata": {},
   "outputs": [],
   "source": []
  },
  {
   "cell_type": "code",
   "execution_count": 6,
   "metadata": {},
   "outputs": [],
   "source": [
    "class LFWFunneled6000Pairs(Dataset):\n",
    "    def __init__(self, lfw_funneled_dir, pairs_file, downscale=False):\n",
    "        self._lfw_funneled_dir = lfw_funneled_dir\n",
    "        self._pairs = open(pairs_file).read().split('\\n')\n",
    "        \n",
    "        transforms_list = [\n",
    "            transforms.ToPILImage(),\n",
    "            transforms.Grayscale(),\n",
    "            transforms.CenterCrop(128),\n",
    "        ]\n",
    "        if downscale is True:\n",
    "            transforms_list.append(transforms.Resize(32, 0))\n",
    "            transforms_list.append(transforms.Resize(128, PIL.Image.BICUBIC))\n",
    "        transforms_list.append(transforms.ToTensor())\n",
    "        \n",
    "        self._transforms = transforms.Compose(transforms_list)\n",
    "        \n",
    "    def _make_filepath(self, name, number):\n",
    "        image_name ='{}_{:04d}.jpg'.format(name, int(number))\n",
    "        return os.path.join(self._lfw_funneled_dir, name, image_name)\n",
    "        \n",
    "    def __getitem__(self, index):\n",
    "        pair = self._pairs[index + 1].split('\\t')\n",
    "        if len(pair) == 3:\n",
    "            label = 1\n",
    "            name, number_1, number_2 = pair\n",
    "\n",
    "            image_path_1 = self._make_filepath(name, number_1)\n",
    "            image_path_2 = self._make_filepath(name, number_2)\n",
    "        elif len(pair) == 4:\n",
    "            label = 0\n",
    "            name_1, number_1, name_2, number_2 = pair\n",
    "\n",
    "            image_path_1 = self._make_filepath(name_1, number_1)\n",
    "            image_path_2 = self._make_filepath(name_2, number_2)\n",
    "\n",
    "        return self._transforms(imread(image_path_1)), \\\n",
    "               self._transforms(imread(image_path_2)), \\\n",
    "               label\n",
    "\n",
    "    def __len__(self):\n",
    "        return 6000\n"
   ]
  },
  {
   "cell_type": "code",
   "execution_count": 7,
   "metadata": {
    "collapsed": true
   },
   "outputs": [],
   "source": [
    "def calculate_roc_auc(lwf_loader, model):\n",
    "    labels = []\n",
    "    thresholds = []\n",
    "    \n",
    "    for image_batch_1, image_batch_2, current_labels in tqdm(lwf_loader):\n",
    "        _, features_1 = model(Variable(image_batch_1, volatile=True).cuda())\n",
    "        _, features_2 = model(Variable(image_batch_2, volatile=True).cuda())\n",
    "        \n",
    "        current_thresholds = -torch.mean((features_1 - features_2) ** 2, dim=-1)\n",
    "        \n",
    "        thresholds.extend(current_thresholds.data.cpu().numpy())\n",
    "        labels.extend(current_labels)\n",
    "        \n",
    "    return roc_auc_score(labels, thresholds)"
   ]
  },
  {
   "cell_type": "code",
   "execution_count": 8,
   "metadata": {},
   "outputs": [
    {
     "name": "stderr",
     "output_type": "stream",
     "text": [
      "100%|██████████| 375/375 [00:49<00:00, 11.73it/s]\n"
     ]
    }
   ],
   "source": [
    "lwf_dataset_hr = LFWFunneled6000Pairs(LFW_FUNNELED_DIR, LFW_PAIRS_6000, downscale=False)\n",
    "lwf_loader_hr = DataLoader(\n",
    "    dataset=lwf_dataset_hr,\n",
    "    batch_size=16,\n",
    "    shuffle=False\n",
    ")\n",
    "\n",
    "roc_auc_score_hr = calculate_roc_auc(lwf_loader_hr, model)"
   ]
  },
  {
   "cell_type": "code",
   "execution_count": 9,
   "metadata": {},
   "outputs": [
    {
     "data": {
      "text/plain": [
       "0.9820735555555555"
      ]
     },
     "execution_count": 9,
     "metadata": {},
     "output_type": "execute_result"
    }
   ],
   "source": [
    "roc_auc_score_hr"
   ]
  },
  {
   "cell_type": "code",
   "execution_count": null,
   "metadata": {
    "collapsed": true
   },
   "outputs": [],
   "source": []
  },
  {
   "cell_type": "code",
   "execution_count": 10,
   "metadata": {},
   "outputs": [
    {
     "name": "stderr",
     "output_type": "stream",
     "text": [
      "100%|██████████| 375/375 [00:39<00:00,  8.12it/s]\n"
     ]
    }
   ],
   "source": [
    "lwf_dataset_hr = LFWFunneled6000Pairs(LFW_FUNNELED_DIR, LFW_PAIRS_6000, downscale=True)\n",
    "lwf_loader_hr = DataLoader(\n",
    "    dataset=lwf_dataset_hr,\n",
    "    batch_size=16,\n",
    "    shuffle=False\n",
    ")\n",
    "\n",
    "roc_auc_score_hr = calculate_roc_auc(lwf_loader_hr, model)"
   ]
  },
  {
   "cell_type": "code",
   "execution_count": 11,
   "metadata": {},
   "outputs": [
    {
     "data": {
      "text/plain": [
       "0.9352327777777778"
      ]
     },
     "execution_count": 11,
     "metadata": {},
     "output_type": "execute_result"
    }
   ],
   "source": [
    "roc_auc_score_hr"
   ]
  },
  {
   "cell_type": "code",
   "execution_count": null,
   "metadata": {
    "collapsed": true
   },
   "outputs": [],
   "source": []
  },
  {
   "cell_type": "code",
   "execution_count": null,
   "metadata": {
    "collapsed": true
   },
   "outputs": [],
   "source": []
  },
  {
   "cell_type": "code",
   "execution_count": null,
   "metadata": {
    "collapsed": true
   },
   "outputs": [],
   "source": []
  }
 ],
 "metadata": {
  "kernelspec": {
   "display_name": "Python 3",
   "language": "python",
   "name": "python3"
  },
  "language_info": {
   "codemirror_mode": {
    "name": "ipython",
    "version": 3
   },
   "file_extension": ".py",
   "mimetype": "text/x-python",
   "name": "python",
   "nbconvert_exporter": "python",
   "pygments_lexer": "ipython3",
   "version": "3.5.2"
  }
 },
 "nbformat": 4,
 "nbformat_minor": 2
}
