{
 "cells": [
  {
   "cell_type": "code",
   "execution_count": 1,
   "metadata": {},
   "outputs": [],
   "source": [
    "import os\n",
    "from collections import OrderedDict\n",
    "\n",
    "import PIL\n",
    "import importlib\n",
    "import numpy as np\n",
    "import pickle\n",
    "import torch\n",
    "from IPython.display import clear_output\n",
    "from matplotlib import pyplot as plt\n",
    "from sklearn.metrics import roc_auc_score\n",
    "from skimage.io import imread\n",
    "from torch import nn\n",
    "from torch.autograd import Variable\n",
    "from torch.utils.data import DataLoader\n",
    "from torch.utils.data.dataset import Dataset\n",
    "from torchvision import transforms\n",
    "from tqdm import tqdm\n",
    "\n",
    "from settings.paths import LFW_PAIRS_6000, \\\n",
    "                           LFW_FUNNELED_DIR, \\\n",
    "                           LIGHT_CNN_9_WEIGHT, \\\n",
    "                           SRGAN_MSE_LOSS_WEIGHTS_DIR, \\\n",
    "                           SRGAN_VGG_LOSS_3_1_GENERATOR_WEIGHTS_DIR, \\\n",
    "                           SRGAN_VGG_LOSS_3_1_NO_ADVERSARIAL_WEIGHTS_DIR, \\\n",
    "                           SRGAN_LIGHT_CNN_9_LOSS_MFM4_GENERATOR_WEIGHTS_DIR, \\\n",
    "                           SRGAN_LIGHT_CNN_9_LOSS_MFM4_NO_ADVERSARIAL_WEIGHTS_DIR, \\\n",
    "                           ROC_AUC_DIR\n",
    "                \n",
    "from src.light_cnn import LightCNN_9Layers\n",
    "from src.srgan import Generator\n",
    "\n",
    "plt.style.use('ggplot')"
   ]
  },
  {
   "cell_type": "code",
   "execution_count": 2,
   "metadata": {
    "collapsed": true
   },
   "outputs": [],
   "source": [
    "os.environ[\"CUDA_VISIBLE_DEVICES\"] = '6, 7'"
   ]
  },
  {
   "cell_type": "code",
   "execution_count": null,
   "metadata": {
    "collapsed": true
   },
   "outputs": [],
   "source": []
  },
  {
   "cell_type": "code",
   "execution_count": 3,
   "metadata": {
    "collapsed": true
   },
   "outputs": [],
   "source": [
    "def init_model(name='LightCNN_9', cuda=True):\n",
    "    if name is 'LightCNN_9':\n",
    "        model_class = LightCNN_9Layers\n",
    "        num_classes=79077\n",
    "    else:\n",
    "        raise ValueError('No such model {}'.format(name))\n",
    "        \n",
    "    model = model_class(num_classes=num_classes)\n",
    "    model.eval()\n",
    "    \n",
    "    if cuda:\n",
    "        model = torch.nn.DataParallel(model).cuda()\n",
    "    \n",
    "    return model"
   ]
  },
  {
   "cell_type": "code",
   "execution_count": 4,
   "metadata": {
    "collapsed": true
   },
   "outputs": [],
   "source": [
    "def load_weights(model, weight_path):\n",
    "    checkpoint = torch.load(weight_path)\n",
    "    model.load_state_dict(checkpoint['state_dict'])\n",
    "    return model"
   ]
  },
  {
   "cell_type": "code",
   "execution_count": 5,
   "metadata": {},
   "outputs": [],
   "source": [
    "model = init_model('LightCNN_9', cuda=True)\n",
    "model = load_weights(model, LIGHT_CNN_9_WEIGHT)"
   ]
  },
  {
   "cell_type": "code",
   "execution_count": null,
   "metadata": {
    "collapsed": true
   },
   "outputs": [],
   "source": []
  },
  {
   "cell_type": "code",
   "execution_count": 6,
   "metadata": {},
   "outputs": [],
   "source": [
    "class LFWFunneled6000Pairs(Dataset):\n",
    "    def __init__(self, lfw_funneled_dir, pairs_file, additional_transform=None):\n",
    "        self._lfw_funneled_dir = lfw_funneled_dir\n",
    "        self._pairs = open(pairs_file).read().split('\\n')\n",
    "        \n",
    "        transforms_list = [\n",
    "            transforms.ToPILImage(),\n",
    "            transforms.CenterCrop(128),\n",
    "        ]\n",
    "        if additional_transform is not None:\n",
    "            transforms_list.extend(additional_transform)\n",
    "        transforms_list.append(transforms.ToTensor())\n",
    "        \n",
    "        self._transforms = transforms.Compose(transforms_list)\n",
    "        \n",
    "    def _make_filepath(self, name, number):\n",
    "        image_name ='{}_{:04d}.jpg'.format(name, int(number))\n",
    "        return os.path.join(self._lfw_funneled_dir, name, image_name)\n",
    "        \n",
    "    def __getitem__(self, index):\n",
    "        pair = self._pairs[index + 1].split('\\t')\n",
    "        if len(pair) == 3:\n",
    "            label = 1\n",
    "            name, number_1, number_2 = pair\n",
    "\n",
    "            image_path_1 = self._make_filepath(name, number_1)\n",
    "            image_path_2 = self._make_filepath(name, number_2)\n",
    "        elif len(pair) == 4:\n",
    "            label = 0\n",
    "            name_1, number_1, name_2, number_2 = pair\n",
    "\n",
    "            image_path_1 = self._make_filepath(name_1, number_1)\n",
    "            image_path_2 = self._make_filepath(name_2, number_2)\n",
    "\n",
    "        return self._transforms(imread(image_path_1)), \\\n",
    "               self._transforms(imread(image_path_2)), \\\n",
    "               label\n",
    "\n",
    "    def __len__(self):\n",
    "        return 6000\n"
   ]
  },
  {
   "cell_type": "code",
   "execution_count": null,
   "metadata": {
    "collapsed": true
   },
   "outputs": [],
   "source": []
  },
  {
   "cell_type": "code",
   "execution_count": 7,
   "metadata": {},
   "outputs": [],
   "source": [
    "def calculate_roc_auc(lwf_loader, embeddings_model, upscale_model=None, desc=''):\n",
    "    post_transform = transforms.Compose(\n",
    "        [\n",
    "            transforms.ToPILImage(),\n",
    "            transforms.Grayscale(),\n",
    "            transforms.ToTensor(),\n",
    "        ]\n",
    "    )\n",
    "    \n",
    "    labels = []\n",
    "    thresholds = []\n",
    "    \n",
    "    for image_batch_1, image_batch_2, current_labels in tqdm(lwf_loader, desc=desc):\n",
    "        if upscale_model is not None:\n",
    "            image_variable_1 = upscale_model(Variable(image_batch_1, volatile=True).cuda())\n",
    "            image_variable_2 = upscale_model(Variable(image_batch_2, volatile=True).cuda())\n",
    "            image_batch_1 = image_variable_1.data.cpu()\n",
    "            image_batch_2 = image_variable_2.data.cpu()\n",
    "        \n",
    "        image_grayscale_1 = []\n",
    "        image_grayscale_2 = []\n",
    "        for image_num in range(image_batch_1.size()[0]):\n",
    "            image_grayscale_1.append(post_transform(image_batch_1[image_num]))\n",
    "            image_grayscale_2.append(post_transform(image_batch_2[image_num]))\n",
    "            \n",
    "        image_grayscale_1 = torch.stack(image_grayscale_1)\n",
    "        image_grayscale_2 = torch.stack(image_grayscale_2)\n",
    "        \n",
    "        _, features_1 = embeddings_model(Variable(image_grayscale_1, volatile=True).cuda())\n",
    "        _, features_2 = embeddings_model(Variable(image_grayscale_2, volatile=True).cuda())\n",
    "        \n",
    "        current_thresholds = -torch.mean((features_1 - features_2) ** 2, dim=-1)\n",
    "        \n",
    "        thresholds.extend(current_thresholds.data.cpu().numpy())\n",
    "        labels.extend(current_labels)\n",
    "        \n",
    "    return roc_auc_score(labels, thresholds)"
   ]
  },
  {
   "cell_type": "code",
   "execution_count": null,
   "metadata": {
    "collapsed": true
   },
   "outputs": [],
   "source": []
  },
  {
   "cell_type": "code",
   "execution_count": 8,
   "metadata": {
    "collapsed": true
   },
   "outputs": [],
   "source": [
    "roc_auc_scores = OrderedDict()"
   ]
  },
  {
   "cell_type": "code",
   "execution_count": null,
   "metadata": {
    "collapsed": true
   },
   "outputs": [],
   "source": []
  },
  {
   "cell_type": "markdown",
   "metadata": {},
   "source": [
    "## HR"
   ]
  },
  {
   "cell_type": "code",
   "execution_count": 9,
   "metadata": {
    "scrolled": true
   },
   "outputs": [
    {
     "name": "stderr",
     "output_type": "stream",
     "text": [
      "100%|██████████| 375/375 [00:42<00:00, 10.59it/s]\n"
     ]
    }
   ],
   "source": [
    "lwf_dataset_hr = LFWFunneled6000Pairs(LFW_FUNNELED_DIR, LFW_PAIRS_6000)\n",
    "lwf_loader_hr = DataLoader(\n",
    "    dataset=lwf_dataset_hr,\n",
    "    batch_size=16,\n",
    "    num_workers=4,\n",
    "    shuffle=False\n",
    ")\n",
    "\n",
    "roc_auc_hr = calculate_roc_auc(lwf_loader_hr, model)"
   ]
  },
  {
   "cell_type": "code",
   "execution_count": 10,
   "metadata": {},
   "outputs": [
    {
     "data": {
      "text/plain": [
       "0.9820735555555555"
      ]
     },
     "execution_count": 10,
     "metadata": {},
     "output_type": "execute_result"
    }
   ],
   "source": [
    "roc_auc_hr"
   ]
  },
  {
   "cell_type": "code",
   "execution_count": 11,
   "metadata": {},
   "outputs": [],
   "source": [
    "roc_auc_scores['HR'] = roc_auc_hr"
   ]
  },
  {
   "cell_type": "code",
   "execution_count": null,
   "metadata": {
    "collapsed": true
   },
   "outputs": [],
   "source": []
  },
  {
   "cell_type": "markdown",
   "metadata": {},
   "source": [
    "## Bicubic interpolation"
   ]
  },
  {
   "cell_type": "code",
   "execution_count": 12,
   "metadata": {},
   "outputs": [
    {
     "name": "stderr",
     "output_type": "stream",
     "text": [
      "100%|██████████| 375/375 [00:35<00:00, 10.44it/s]\n"
     ]
    }
   ],
   "source": [
    "down_up_bicubic = [\n",
    "    transforms.Resize(32, PIL.Image.NEAREST),\n",
    "    transforms.Resize(128, PIL.Image.BICUBIC),\n",
    "]\n",
    "\n",
    "lwf_dataset_hr = LFWFunneled6000Pairs(LFW_FUNNELED_DIR, LFW_PAIRS_6000, additional_transform=down_up_bicubic)\n",
    "lwf_loader_hr = DataLoader(\n",
    "    dataset=lwf_dataset_hr,\n",
    "    batch_size=16,\n",
    "    num_workers=4,\n",
    "    shuffle=False\n",
    ")\n",
    "\n",
    "roc_auc_bicubic = calculate_roc_auc(lwf_loader_hr, model)"
   ]
  },
  {
   "cell_type": "code",
   "execution_count": 13,
   "metadata": {},
   "outputs": [
    {
     "data": {
      "text/plain": [
       "0.9355899999999998"
      ]
     },
     "execution_count": 13,
     "metadata": {},
     "output_type": "execute_result"
    }
   ],
   "source": [
    "roc_auc_bicubic"
   ]
  },
  {
   "cell_type": "code",
   "execution_count": 14,
   "metadata": {},
   "outputs": [],
   "source": [
    "roc_auc_scores['Bicubic'] = roc_auc_bicubic"
   ]
  },
  {
   "cell_type": "code",
   "execution_count": null,
   "metadata": {
    "collapsed": true
   },
   "outputs": [],
   "source": []
  },
  {
   "cell_type": "markdown",
   "metadata": {},
   "source": [
    "## SRGAN MSE"
   ]
  },
  {
   "cell_type": "code",
   "execution_count": 15,
   "metadata": {},
   "outputs": [],
   "source": [
    "def plot_checkpoints_roc_auc(roc_auc_list,\n",
    "                             step_list,\n",
    "                             name,\n",
    "                             lines=roc_auc_scores):\n",
    "    plt.figure(figsize=(10, 6))\n",
    "    plt.plot(step_list, roc_auc_list, c='r')\n",
    "    plt.ylabel('ROC AUC')\n",
    "    plt.xlabel('Step')\n",
    "    plt.title(name)\n",
    "    plt.xticks(rotation=45)\n",
    "    \n",
    "    drawn_list = []\n",
    "    for num, ((line_name, value), color) in enumerate(\n",
    "        zip(lines.items(), ['b', 'm', 'g', 'c', 'y', 'k', 'w'])\n",
    "    ):\n",
    "        linestyle='-'\n",
    "        for drawn_value in drawn_list:\n",
    "            if np.abs(drawn_value - value) < 0.001:\n",
    "                linestyle = '--'\n",
    "                break\n",
    "            \n",
    "        plt.axhline(\n",
    "            y=value,\n",
    "            color=color, linestyle=linestyle,\n",
    "            zorder=num,\n",
    "            label=line_name, lw=2\n",
    "        )\n",
    "        drawn_list.append(value)\n",
    "        \n",
    "    plt.legend(bbox_to_anchor=(1.05, 1), loc=2, borderaxespad=0.)\n",
    "    \n",
    "    plt.show()"
   ]
  },
  {
   "cell_type": "code",
   "execution_count": 16,
   "metadata": {},
   "outputs": [],
   "source": [
    "def roc_auc_for_all_checkpoints(name, embeddings_model, upscale_model, weight_directory, lwf_loader_hr,\n",
    "                                continue_auc_and_files=None):\n",
    "    def analyse():\n",
    "        clear_output()\n",
    "        cur_max_roc_auc_arg = np.argmax(roc_auc_list)\n",
    "        print('Max ROC AUC is {} on {} step'.format(\n",
    "            roc_auc_list[cur_max_roc_auc_arg], current_files_list[cur_max_roc_auc_arg]\n",
    "        ))\n",
    "        plot_checkpoints_roc_auc(roc_auc_list, current_files_list, name)\n",
    "        \n",
    "        return cur_max_roc_auc_arg\n",
    "    \n",
    "    files = sorted(os.listdir(weight_directory))\n",
    "    downscale = [\n",
    "        transforms.Resize(32, PIL.Image.NEAREST),\n",
    "    ]\n",
    "    \n",
    "    if continue_auc_and_files is not None:\n",
    "        roc_auc_list, current_files_list = continue_auc_and_files\n",
    "    else:\n",
    "        roc_auc_list, current_files_list = [], []\n",
    "    \n",
    "    if len(files) > 0:\n",
    "        last_checkpoint_file_num = os.path.splitext(files[-1])[0]\n",
    "\n",
    "        for file in files:\n",
    "            checkpoint_file_num = os.path.splitext(file)[0]\n",
    "            if checkpoint_file_num in current_files_list:\n",
    "                continue\n",
    "\n",
    "            checkpoint_file = os.path.join(weight_directory, file)\n",
    "\n",
    "            upscale_model.load_state_dict(torch.load(checkpoint_file))\n",
    "\n",
    "            loading_desc = '{}/{}'.format(checkpoint_file_num, last_checkpoint_file_num)\n",
    "            roc_auc_list.append(\n",
    "                calculate_roc_auc(lwf_loader_hr, embeddings_model, upscale_model, loading_desc)\n",
    "            )\n",
    "            current_files_list.append(checkpoint_file_num)\n",
    "            cur_max_roc_auc_arg = analyse() \n",
    "    else:\n",
    "        roc_auc_list, current_files_list, cur_max_roc_auc_arg = [1], [0], 0\n",
    "\n",
    "    cur_max_roc_auc_arg = analyse()\n",
    "    \n",
    "    return roc_auc_list, current_files_list, cur_max_roc_auc_arg"
   ]
  },
  {
   "cell_type": "code",
   "execution_count": 17,
   "metadata": {},
   "outputs": [],
   "source": [
    "def make_save_path(save_dir, name):\n",
    "    return os.path.join(save_dir, name.lower().replace(' ', '_'))\n",
    "\n",
    "def save_roc_auc(name, roc_auc_list, files_list, save_dir=ROC_AUC_DIR):\n",
    "    save_path = make_save_path(save_dir, name)\n",
    "    with open(save_path, 'wb') as file:\n",
    "        pickle.dump((roc_auc_list, files_list), file)\n",
    "        \n",
    "def load_roc_auc(name, save_dir=ROC_AUC_DIR):\n",
    "    load_path = make_save_path(save_dir, name)\n",
    "    with open(load_path, 'rb') as file:\n",
    "        roc_auc_list, files_list = pickle.load(file)\n",
    "    return roc_auc_list, files_list"
   ]
  },
  {
   "cell_type": "code",
   "execution_count": null,
   "metadata": {},
   "outputs": [],
   "source": []
  },
  {
   "cell_type": "code",
   "execution_count": 18,
   "metadata": {
    "collapsed": true
   },
   "outputs": [],
   "source": [
    "n_resblocks=16\n",
    "n_upsample=2\n",
    "generator = Generator(n_resblocks, n_upsample)\n",
    "generator = nn.DataParallel(generator).cuda()"
   ]
  },
  {
   "cell_type": "code",
   "execution_count": 19,
   "metadata": {},
   "outputs": [],
   "source": [
    "downscale = [\n",
    "    transforms.Resize(32, 0),\n",
    "]\n",
    "\n",
    "lwf_dataset_hr = LFWFunneled6000Pairs(LFW_FUNNELED_DIR, LFW_PAIRS_6000, additional_transform=downscale)\n",
    "lwf_loader_hr = DataLoader(\n",
    "    dataset=lwf_dataset_hr,\n",
    "    batch_size=16,\n",
    "    num_workers=4,\n",
    "    shuffle=False\n",
    ")"
   ]
  },
  {
   "cell_type": "code",
   "execution_count": 20,
   "metadata": {
    "scrolled": false
   },
   "outputs": [
    {
     "name": "stdout",
     "output_type": "stream",
     "text": [
      "Max ROC AUC is 0.9596294444444444 on 0000601682 step\n"
     ]
    },
    {
     "data": {
      "image/png": "[encoded data removed]",
      "text/plain": [
       "<matplotlib.figure.Figure at 0x7f2074ab7518>"
      ]
     },
     "metadata": {},
     "output_type": "display_data"
    }
   ],
   "source": [
    "experiment_name = 'SRGAN with MSE LOSS'\n",
    "roc_auc_list_mse, files_list_mse, max_roc_auc_arg_mse = roc_auc_for_all_checkpoints(\n",
    "    experiment_name, model, upscale_model=generator,\n",
    "    weight_directory=SRGAN_MSE_LOSS_WEIGHTS_DIR,\n",
    "    lwf_loader_hr=lwf_loader_hr,\n",
    "    continue_auc_and_files=load_roc_auc('MSE Loss')\n",
    ")\n",
    "save_roc_auc('MSE Loss', roc_auc_list_mse, files_list_mse)"
   ]
  },
  {
   "cell_type": "code",
   "execution_count": 21,
   "metadata": {},
   "outputs": [
    {
     "data": {
      "text/plain": [
       "(0.9596294444444444, '0000601682')"
      ]
     },
     "execution_count": 21,
     "metadata": {},
     "output_type": "execute_result"
    }
   ],
   "source": [
    "roc_auc_list_mse[max_roc_auc_arg_mse], files_list_mse[max_roc_auc_arg_mse]"
   ]
  },
  {
   "cell_type": "code",
   "execution_count": 22,
   "metadata": {},
   "outputs": [],
   "source": [
    "roc_auc_scores['MSE Loss'] = roc_auc_list_mse[max_roc_auc_arg_mse]"
   ]
  },
  {
   "cell_type": "code",
   "execution_count": null,
   "metadata": {
    "collapsed": true
   },
   "outputs": [],
   "source": []
  },
  {
   "cell_type": "markdown",
   "metadata": {},
   "source": [
    "## SRGAN VGG (3.1)"
   ]
  },
  {
   "cell_type": "code",
   "execution_count": 23,
   "metadata": {},
   "outputs": [
    {
     "name": "stdout",
     "output_type": "stream",
     "text": [
      "Max ROC AUC is 0.9637131666666666 on 0000450000 step\n"
     ]
    },
    {
     "data": {
      "image/png": "[encoded data removed]",
      "text/plain": [
       "<matplotlib.figure.Figure at 0x7f2074aa0b38>"
      ]
     },
     "metadata": {},
     "output_type": "display_data"
    }
   ],
   "source": [
    "experiment_name = 'SRGAN with VGG LOSS (3.1)'\n",
    "roc_auc_list_vgg, files_list_vgg, max_roc_auc_arg_vgg = roc_auc_for_all_checkpoints(\n",
    "    experiment_name, model, upscale_model=generator,\n",
    "    weight_directory=SRGAN_VGG_LOSS_3_1_GENERATOR_WEIGHTS_DIR,\n",
    "    lwf_loader_hr=lwf_loader_hr,\n",
    "    continue_auc_and_files=load_roc_auc('VGG Loss 3.1')\n",
    ")\n",
    "save_roc_auc('VGG Loss 3.1', roc_auc_list_vgg, files_list_vgg)"
   ]
  },
  {
   "cell_type": "code",
   "execution_count": 24,
   "metadata": {},
   "outputs": [
    {
     "data": {
      "text/plain": [
       "(0.9637131666666666, '0000450000')"
      ]
     },
     "execution_count": 24,
     "metadata": {},
     "output_type": "execute_result"
    }
   ],
   "source": [
    "roc_auc_list_vgg[max_roc_auc_arg_vgg], files_list_vgg[max_roc_auc_arg_vgg]"
   ]
  },
  {
   "cell_type": "code",
   "execution_count": 25,
   "metadata": {
    "collapsed": true
   },
   "outputs": [],
   "source": [
    "roc_auc_scores['VGG Loss 3.1'] = roc_auc_list_vgg[max_roc_auc_arg_vgg]"
   ]
  },
  {
   "cell_type": "code",
   "execution_count": null,
   "metadata": {
    "collapsed": true
   },
   "outputs": [],
   "source": []
  },
  {
   "cell_type": "markdown",
   "metadata": {},
   "source": [
    "## SRGAN VGG (3.1) NO ADVERSARIAL"
   ]
  },
  {
   "cell_type": "code",
   "execution_count": 26,
   "metadata": {},
   "outputs": [
    {
     "name": "stdout",
     "output_type": "stream",
     "text": [
      "Max ROC AUC is 0.9635957777777779 on 0000570000 step\n"
     ]
    },
    {
     "data": {
      "image/png": "[encoded data removed]",
      "text/plain": [
       "<matplotlib.figure.Figure at 0x7f20747430f0>"
      ]
     },
     "metadata": {},
     "output_type": "display_data"
    }
   ],
   "source": [
    "experiment_name = 'SRGAN with VGG LOSS (3.1) NO ADVERSARIAL'\n",
    "roc_auc_list_vgg_no_adv, files_list_vgg_no_adv, max_roc_auc_arg_vgg_no_adv = roc_auc_for_all_checkpoints(\n",
    "    experiment_name, model, upscale_model=generator,\n",
    "    weight_directory=SRGAN_VGG_LOSS_3_1_NO_ADVERSARIAL_WEIGHTS_DIR,\n",
    "    lwf_loader_hr=lwf_loader_hr,\n",
    "    continue_auc_and_files=load_roc_auc('VGG Loss 3.1 no adversarial')\n",
    ")\n",
    "save_roc_auc('VGG Loss 3.1 no adversarial', roc_auc_list_vgg_no_adv, files_list_vgg_no_adv)"
   ]
  },
  {
   "cell_type": "code",
   "execution_count": 27,
   "metadata": {},
   "outputs": [
    {
     "data": {
      "text/plain": [
       "(0.9635957777777779, '0000570000')"
      ]
     },
     "execution_count": 27,
     "metadata": {},
     "output_type": "execute_result"
    }
   ],
   "source": [
    "roc_auc_list_vgg_no_adv[max_roc_auc_arg_vgg_no_adv], files_list_vgg_no_adv[max_roc_auc_arg_vgg_no_adv]"
   ]
  },
  {
   "cell_type": "code",
   "execution_count": 28,
   "metadata": {
    "collapsed": true
   },
   "outputs": [],
   "source": [
    "roc_auc_scores['VGG Loss 3.1 no adversarial'] = roc_auc_list_vgg_no_adv[max_roc_auc_arg_vgg_no_adv]"
   ]
  },
  {
   "cell_type": "code",
   "execution_count": null,
   "metadata": {},
   "outputs": [],
   "source": []
  },
  {
   "cell_type": "markdown",
   "metadata": {},
   "source": [
    "## SRGAN LIGHT CNN 9 (MFM4)"
   ]
  },
  {
   "cell_type": "code",
   "execution_count": 29,
   "metadata": {},
   "outputs": [
    {
     "name": "stdout",
     "output_type": "stream",
     "text": [
      "Max ROC AUC is 0.9676682222222222 on 0000570000 step\n"
     ]
    },
    {
     "data": {
      "image/png": "[encoded data removed]",
      "text/plain": [
       "<matplotlib.figure.Figure at 0x7f2074660390>"
      ]
     },
     "metadata": {},
     "output_type": "display_data"
    }
   ],
   "source": [
    "experiment_name = 'SRGAN with LIGHT CNN 9 LOSS (MFM4)'\n",
    "roc_auc_list_light_cnn, files_list_light_cnn, max_roc_auc_arg_light_cnn = roc_auc_for_all_checkpoints(\n",
    "    experiment_name, model, upscale_model=generator,\n",
    "    weight_directory=SRGAN_LIGHT_CNN_9_LOSS_MFM4_GENERATOR_WEIGHTS_DIR,\n",
    "    lwf_loader_hr=lwf_loader_hr,\n",
    "    continue_auc_and_files=load_roc_auc('LIGHT CNN 9 Loss MFM4')\n",
    ")\n",
    "save_roc_auc('LIGHT CNN 9 Loss MFM4', roc_auc_list_light_cnn, files_list_light_cnn)"
   ]
  },
  {
   "cell_type": "code",
   "execution_count": 30,
   "metadata": {},
   "outputs": [
    {
     "data": {
      "text/plain": [
       "(0.9676682222222222, '0000570000')"
      ]
     },
     "execution_count": 30,
     "metadata": {},
     "output_type": "execute_result"
    }
   ],
   "source": [
    "roc_auc_list_light_cnn[max_roc_auc_arg_light_cnn], files_list_light_cnn[max_roc_auc_arg_light_cnn]"
   ]
  },
  {
   "cell_type": "code",
   "execution_count": null,
   "metadata": {
    "collapsed": true
   },
   "outputs": [],
   "source": [
    "roc_auc_scores['LIGHT CNN Loss 9 MFM4'] = roc_auc_list_light_cnn[max_roc_auc_arg_light_cnn]"
   ]
  },
  {
   "cell_type": "code",
   "execution_count": null,
   "metadata": {},
   "outputs": [],
   "source": []
  },
  {
   "cell_type": "markdown",
   "metadata": {},
   "source": [
    "## SRGAN LIGHT CNN 9 (MFM4) NO ADVERSARIAL"
   ]
  },
  {
   "cell_type": "code",
   "execution_count": null,
   "metadata": {},
   "outputs": [
    {
     "name": "stderr",
     "output_type": "stream",
     "text": [
      "0000030000/0000030000:  53%|█████▎    | 198/375 [00:42<00:40,  4.40it/s]"
     ]
    }
   ],
   "source": [
    "experiment_name = 'SRGAN with LIGHT CNN 9 LOSS (MFM4) NO ADVERSARIAL'\n",
    "roc_auc_list_light_cnn_no_adv, files_list_light_cnn_no_adv, max_roc_auc_arg_light_cnn_no_adv = roc_auc_for_all_checkpoints(\n",
    "    experiment_name, model, upscale_model=generator,\n",
    "    weight_directory=SRGAN_LIGHT_CNN_9_LOSS_MFM4_NO_ADVERSARIAL_WEIGHTS_DIR,\n",
    "    lwf_loader_hr=lwf_loader_hr,\n",
    "    continue_auc_and_files=load_roc_auc('LIGHT CNN 9 Loss MFM4 no adversarial')\n",
    ")\n",
    "save_roc_auc('LIGHT CNN 9 Loss MFM4 no adversarial', roc_auc_list_light_cnn_no_adv, files_list_light_cnn_no_adv)"
   ]
  },
  {
   "cell_type": "code",
   "execution_count": null,
   "metadata": {},
   "outputs": [],
   "source": [
    "roc_auc_list_light_cnn_no_adv[max_roc_auc_arg_light_cnn_no_adv], files_list_light_cnn_no_adv[max_roc_auc_arg_light_cnn_no_adv]"
   ]
  },
  {
   "cell_type": "code",
   "execution_count": null,
   "metadata": {
    "collapsed": true
   },
   "outputs": [],
   "source": [
    "roc_auc_scores['LIGHT CNN Loss 9 MFM4 no adversarial'] = roc_auc_list_light_cnn_no_adv[max_roc_auc_arg_light_cnn_no_adv]"
   ]
  },
  {
   "cell_type": "code",
   "execution_count": null,
   "metadata": {
    "collapsed": true
   },
   "outputs": [],
   "source": []
  },
  {
   "cell_type": "code",
   "execution_count": null,
   "metadata": {
    "collapsed": true
   },
   "outputs": [],
   "source": []
  },
  {
   "cell_type": "code",
   "execution_count": null,
   "metadata": {
    "collapsed": true
   },
   "outputs": [],
   "source": []
  }
 ],
 "metadata": {
  "kernelspec": {
   "display_name": "Python 3",
   "language": "python",
   "name": "python3"
  },
  "language_info": {
   "codemirror_mode": {
    "name": "ipython",
    "version": 3
   },
   "file_extension": ".py",
   "mimetype": "text/x-python",
   "name": "python",
   "nbconvert_exporter": "python",
   "pygments_lexer": "ipython3",
   "version": "3.5.2"
  }
 },
 "nbformat": 4,
 "nbformat_minor": 2
}
